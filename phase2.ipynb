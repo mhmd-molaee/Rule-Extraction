{
 "cells": [
  {
   "cell_type": "code",
   "execution_count": null,
   "metadata": {},
   "outputs": [],
   "source": [
    "import pandas as pd\n",
    "import numpy as np\n",
    "import matplotlib.pyplot as plt\n"
   ]
  },
  {
   "cell_type": "code",
   "execution_count": null,
   "metadata": {},
   "outputs": [],
   "source": [
    "df = pd.read_csv('./extention_of_Z-Alizadeh_sani_dataset.csv')\n",
    "float_columns = df.select_dtypes('float64').columns\n",
    "\n",
    "for column in float_columns:\n",
    "    df[column] = pd.cut(x=df[column], bins=3, labels=range(3), right=False)\n",
    "\n",
    "int_columns = df.select_dtypes('int64').columns\n",
    "df[int_columns] = df.select_dtypes('int64').astype('category')\n",
    "df = df.drop('Cath', axis= 1)\n",
    "dataset_infos = df.nunique()\n",
    "\n",
    "dataset_infos\n"
   ]
  },
  {
   "cell_type": "code",
   "execution_count": null,
   "metadata": {},
   "outputs": [],
   "source": [
    "POPULATION_SIZE = 250\n",
    "MAX_GEN = 200\n",
    "CO_PROB = 0.9\n",
    "M_PROB = 0.15\n",
    "REP_NO = 5\n",
    "W_CONFIDENCE = 0.8\n",
    "W_SUPPORT = 0.2\n",
    "DATASET_SIZE = 212\n",
    "fit_dic = {}\n",
    "DATASET_KEYS = dataset_infos.keys()\n",
    "DATASET_VALUES = dataset_infos.values\n",
    "CHROMOSOME_SIZE = DATASET_VALUES.sum()\n"
   ]
  },
  {
   "cell_type": "code",
   "execution_count": null,
   "metadata": {},
   "outputs": [],
   "source": [
    "df = pd.read_csv('./binarized.csv')\n",
    "\n",
    "df = df.sample(frac= 1, axis= 0).reset_index(drop=True)\n",
    "\n",
    "train_data = df[0:DATASET_SIZE]\n",
    "train_data_copy = train_data\n",
    "\n",
    "test_data = df[DATASET_SIZE:]\n",
    "train_data.head()"
   ]
  },
  {
   "cell_type": "code",
   "execution_count": null,
   "metadata": {},
   "outputs": [],
   "source": [
    "COLUMNS = df.columns"
   ]
  },
  {
   "cell_type": "code",
   "execution_count": null,
   "metadata": {},
   "outputs": [],
   "source": [
    "class Rule:\n",
    "    def __init__(self, conditions, confidence, support, chromosome):\n",
    "        self.conditions = conditions\n",
    "        self.confidence = confidence\n",
    "        self.support = support\n",
    "        self.output = ''\n",
    "        self.chromosome = chromosome\n"
   ]
  },
  {
   "cell_type": "code",
   "execution_count": null,
   "metadata": {},
   "outputs": [],
   "source": [
    "def init_pop():\n",
    "    return np.random.randint(0, 2, (POPULATION_SIZE, CHROMOSOME_SIZE))\n"
   ]
  },
  {
   "cell_type": "code",
   "execution_count": null,
   "metadata": {},
   "outputs": [],
   "source": [
    "def cross_over(chrom1, chrom2):\n",
    "    points = np.random.randint(1, CHROMOSOME_SIZE, 2)\n",
    "    points.sort()\n",
    "    point1, point2 = points\n",
    "    new_chrom1 = np.concatenate([chrom1[:point1], chrom2[point1:point2], chrom1[point2:]])\n",
    "    new_chrom2 = np.concatenate([chrom2[:point1], chrom1[point1:point2], chrom2[point2:]])\n",
    "    return new_chrom1, new_chrom2\n"
   ]
  },
  {
   "cell_type": "code",
   "execution_count": null,
   "metadata": {},
   "outputs": [],
   "source": [
    "def mutation(chrom):\n",
    "    noMU = np.random.randint(1, 7)\n",
    "    for i in range(noMU):\n",
    "        point = np.random.randint(0, CHROMOSOME_SIZE)\n",
    "        if(chrom[point] == 0):\n",
    "            chrom[point] = 1\n",
    "        else:\n",
    "            chrom[point] = 0\n",
    "\n",
    "    return chrom\n"
   ]
  },
  {
   "cell_type": "code",
   "execution_count": null,
   "metadata": {},
   "outputs": [],
   "source": [
    "def extract_condition(chrom):\n",
    "    k = 0\n",
    "    condition = ''\n",
    "    lb = 0\n",
    "    ub = DATASET_VALUES[0]\n",
    "    addAnd = False\n",
    "\n",
    "    for i in range(len(DATASET_VALUES)):\n",
    "        temp = np.array(chrom[lb: ub])\n",
    "        if(i < len(DATASET_VALUES) - 1):\n",
    "            lb += DATASET_VALUES[i]\n",
    "            ub += DATASET_VALUES[i + 1]\n",
    "\n",
    "        if (temp.sum() == 0 or temp.sum() == DATASET_VALUES[i]):\n",
    "            k += DATASET_VALUES[i]\n",
    "            continue\n",
    "        if(i > 0 and addAnd):\n",
    "            condition += ' & '\n",
    "\n",
    "        condition += '('\n",
    "        addOr = False\n",
    "\n",
    "        for j in range(DATASET_VALUES[i]):\n",
    "            if(addOr):\n",
    "                condition += ' | '\n",
    "            addOr = True\n",
    "            addAnd = True\n",
    "            condition += f'(df_copy[\"{COLUMNS[k]}\"] == {temp[j]})'\n",
    "            k += 1\n",
    "\n",
    "        condition += ')'\n",
    "    \n",
    "    return condition\n"
   ]
  },
  {
   "cell_type": "code",
   "execution_count": null,
   "metadata": {},
   "outputs": [],
   "source": [
    "def fitness(chrom):\n",
    "    f = 0\n",
    "    str_chrom = \"\".join(str(x) for x in chrom)\n",
    "    try:\n",
    "        f = fit_dic[str_chrom]\n",
    "    except KeyError:\n",
    "        df_copy = train_data\n",
    "\n",
    "        condition = extract_condition(chrom)\n",
    "\n",
    "        if(len(condition) > 0):\n",
    "            df_copy = df_copy[eval(condition)]\n",
    "\n",
    "        z = np.array([len(df_copy[(df_copy['Cath'] == \"CAD\")]),\n",
    "                        len(df_copy[(df_copy['Cath'] == \"Normal\")])])\n",
    "\n",
    "        sum_z = z.sum()\n",
    "        if(sum_z != 0):\n",
    "            f = W_CONFIDENCE * (z.max() / sum_z) + W_SUPPORT * (sum_z / DATASET_SIZE)\n",
    "            fit_dic[str_chrom] = f\n",
    "        else:\n",
    "            fit_dic[str_chrom] = 0\n",
    "            f = 0\n",
    "    return f"
   ]
  },
  {
   "cell_type": "code",
   "execution_count": null,
   "metadata": {},
   "outputs": [],
   "source": [
    "def tournament_selection(sorted_pop):\n",
    "    selected = []\n",
    "    for i in range(POPULATION_SIZE):\n",
    "        indices = np.random.randint(0, POPULATION_SIZE, 2)\n",
    "        if(indices[0] > indices[1]):\n",
    "            copy = np.copy(sorted_pop[indices[0]])\n",
    "            selected.append(copy)\n",
    "        else:\n",
    "            copy = np.copy(sorted_pop[indices[1]])\n",
    "            selected.append(copy)\n",
    "    \n",
    "    return np.array(selected)\n"
   ]
  },
  {
   "cell_type": "code",
   "execution_count": null,
   "metadata": {},
   "outputs": [],
   "source": [
    "def genetic():\n",
    "  population = init_pop()\n",
    "  second_chance = False\n",
    "  ma = []\n",
    "  mi = []\n",
    "  me = []\n",
    "    \n",
    "  for i in range(MAX_GEN):\n",
    "    pop_fitnesses = np.array([fitness(member) for member in population])\n",
    "    if((i > MAX_GEN / 2) and pop_fitnesses.max() < 0.1 and second_chance == False):\n",
    "      print('second chance')\n",
    "      population = init_pop()\n",
    "      second_chance = True\n",
    "\n",
    "    ma.append(pop_fitnesses.max())\n",
    "    mi.append(pop_fitnesses.min())\n",
    "    me.append(pop_fitnesses.mean())\n",
    "    sorted_pop = population[np.argsort(pop_fitnesses)]\n",
    "    parents = tournament_selection(sorted_pop)\n",
    "    \n",
    "    children = []\n",
    "    for j in range(POPULATION_SIZE // 2):\n",
    "      co_i = np.random.randint(0, POPULATION_SIZE, 2)\n",
    "      c1 = parents[co_i[0]]\n",
    "      c2 = parents[co_i[1]]\n",
    "\n",
    "      if (np.random.uniform(0, 1) < CO_PROB):\n",
    "        c1, c2 = cross_over(c1, c2)\n",
    "      children.append(c1)\n",
    "      children.append(c2)\n",
    "\n",
    "    children = np.array(children)\n",
    "    mutation_indices = np.array([])\n",
    "    if(second_chance):\n",
    "      mutation_indices = np.random.uniform(0, 1, POPULATION_SIZE) < M_PROB + 0.2\n",
    "    else: \n",
    "      mutation_indices = np.random.uniform(0, 1, POPULATION_SIZE) < M_PROB\n",
    "\n",
    "    mutate_children = children[mutation_indices]\n",
    "    if (len(mutate_children) > 0):\n",
    "      mutated = [mutation(x) for x in mutate_children]\n",
    "      children = np.concatenate([mutated, children[np.invert(mutation_indices)]])\n",
    "\n",
    "    ch_fitnesses = [fitness(member) for member in children]\n",
    "    sorted_ch = children[np.argsort(ch_fitnesses)]\n",
    "    \n",
    "    for j in range(REP_NO):\n",
    "      sorted_pop[j] = sorted_ch[POPULATION_SIZE - j - 1]\n",
    "    \n",
    "    population = sorted_pop\n",
    "  \n",
    "  fitnesses = [fitness(member) for member in population]\n",
    "  s = population[np.argsort(fitnesses)]\n",
    "\n",
    "  return ma, mi, me, s[POPULATION_SIZE - 1]\n",
    "    "
   ]
  },
  {
   "cell_type": "code",
   "execution_count": null,
   "metadata": {},
   "outputs": [],
   "source": [
    "rules = []\n",
    "dropped_rows = 1\n",
    "df_copy = train_data\n",
    "\n",
    "while ((len(df_copy) > 0) and (dropped_rows > 0)):\n",
    "    fit_dic.clear()\n",
    "    dropped_rows = 0\n",
    "    ma, mi, me, b_parent = genetic()\n",
    "    rules.append(b_parent)\n",
    "\n",
    "    condition = extract_condition(b_parent)\n",
    "    print(condition)\n",
    "\n",
    "    if(len(condition) > 0):\n",
    "        pre_len = len(df_copy)\n",
    "        df_copy = df_copy.drop(df_copy[eval(condition)].index, errors='ignore', axis=0)\n",
    "        dropped_rows =  pre_len - len(df_copy)\n",
    "\n",
    "    r = range(MAX_GEN)\n",
    "    fig, ax = plt.subplots(1)\n",
    "    l1, = ax.plot(r, ma, 'r')\n",
    "    l1.set_label('Maximum')\n",
    "    l2, = ax.plot(r, me, 'b')\n",
    "    l2.set_label('Mean')\n",
    "    l3, = ax.plot(r, mi, 'g')\n",
    "    l3.set_label('Minimum')\n",
    "    plt.ylabel('Fitness')\n",
    "    plt.xlabel('i')\n",
    "    ax.legend()\n",
    "    # plt.title('')\n",
    "    plt.show()\n",
    "\n"
   ]
  },
  {
   "cell_type": "code",
   "execution_count": null,
   "metadata": {},
   "outputs": [],
   "source": [
    "# df_copy = train_data\n",
    "final_rules = []\n",
    "for k in range(len(rules)):\n",
    "    df_copy = train_data_copy\n",
    "    \n",
    "    condition = extract_condition(rules[k])\n",
    "\n",
    "    if(len(condition) > 0):\n",
    "      df_copy = df_copy[eval(condition)]\n",
    "\n",
    "    if(len(df_copy) == 0):\n",
    "      continue\n",
    "\n",
    "    z = np.array([len(df_copy[(df_copy['Cath'] == \"CAD\")]),\n",
    "                  len(df_copy[(df_copy['Cath'] == \"Normal\")])])\n",
    "\n",
    "    newRule = Rule(conditions=condition, confidence=z.max() / len(df_copy),\n",
    "                   support=len(df_copy) / DATASET_SIZE, chromosome=rules[k])\n",
    "    \n",
    "    if(z[0] >= z[1]):\n",
    "      newRule.output = 'CAD'\n",
    "    else:\n",
    "      newRule.output = 'Normal'\n",
    "    final_rules.append(newRule)\n",
    "\n",
    "    print(f'Rule {k}: Confidence = {newRule.confidence} and Support = {newRule.support} and output = {newRule.output}')\n"
   ]
  },
  {
   "cell_type": "code",
   "execution_count": null,
   "metadata": {},
   "outputs": [],
   "source": [
    "final_rules.sort(key=lambda el: (el.confidence, el.support), reverse=True)\n",
    "for i in final_rules:\n",
    "    print(\n",
    "        f'Confidence = {i.confidence} and Support = {i.support} and output = {i.output}')\n"
   ]
  },
  {
   "cell_type": "code",
   "execution_count": null,
   "metadata": {},
   "outputs": [],
   "source": [
    "test_data_copy = test_data\n",
    "test_data_copy = test_data_copy.reset_index()\n",
    "correct = 0\n",
    "wrong = 0\n",
    "for rule in final_rules:\n",
    "    rule.conditions = rule.conditions.replace('df_copy', 'test_data_copy')\n",
    "    includes = test_data_copy.loc[eval(rule.conditions)]\n",
    "    true_inclusions = len(includes[includes['Cath'] == rule.output])\n",
    "    wrong += len(includes) - true_inclusions\n",
    "    correct += true_inclusions\n",
    "    test_data_copy = test_data_copy.drop(\n",
    "        test_data_copy[eval(rule.conditions)].index, errors='ignore', axis=0)\n"
   ]
  },
  {
   "cell_type": "code",
   "execution_count": null,
   "metadata": {},
   "outputs": [],
   "source": [
    "accuracy = correct / (correct + wrong + len(test_data_copy))\n",
    "accuracy\n"
   ]
  },
  {
   "cell_type": "code",
   "execution_count": null,
   "metadata": {},
   "outputs": [],
   "source": [
    "with open('results.txt', 'w') as f:\n",
    "    for rule in final_rules:\n",
    "        f.write(\"\".join(str(x) for x in rule.chromosome))\n",
    "        f.write('\\n')\n"
   ]
  },
  {
   "cell_type": "code",
   "execution_count": null,
   "metadata": {},
   "outputs": [],
   "source": []
  }
 ],
 "metadata": {
  "kernelspec": {
   "display_name": "base",
   "language": "python",
   "name": "python3"
  },
  "language_info": {
   "codemirror_mode": {
    "name": "ipython",
    "version": 3
   },
   "file_extension": ".py",
   "mimetype": "text/x-python",
   "name": "python",
   "nbconvert_exporter": "python",
   "pygments_lexer": "ipython3",
   "version": "3.9.12"
  },
  "orig_nbformat": 4,
  "vscode": {
   "interpreter": {
    "hash": "df70ee38a7fddd6d6ea7f21e854120713401ed89aa9a5fe11bc03f09eebb9cc3"
   }
  }
 },
 "nbformat": 4,
 "nbformat_minor": 2
}
